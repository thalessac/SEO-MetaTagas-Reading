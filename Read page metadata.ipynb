{
 "cells": [
  {
   "cell_type": "code",
   "execution_count": null,
   "metadata": {},
   "outputs": [],
   "source": [
    "import pandas as pd\n",
    "import requests\n",
    "import os\n",
    "from bs4 import BeautifulSoup"
   ]
  },
  {
   "cell_type": "markdown",
   "metadata": {},
   "source": [
    "Colocar as urls a serem lidas na planilha urls.xlsx, no mesmo diretório do código"
   ]
  },
  {
   "cell_type": "code",
   "execution_count": null,
   "metadata": {},
   "outputs": [],
   "source": [
    "#Read file and show dataframe\n",
    "\n",
    "filename = os.getcwd() + \"\\\\urls.xlsx\"\n",
    "df = pd.read_excel(filename)\n",
    "df #Ver dataframe"
   ]
  },
  {
   "cell_type": "code",
   "execution_count": null,
   "metadata": {},
   "outputs": [],
   "source": [
    "def get_metadata (url):\n",
    "    \n",
    "    try:\n",
    "    \n",
    "        response = requests.get(url)\n",
    "        soup = BeautifulSoup(response.text)\n",
    "\n",
    "        metas = soup.find_all('meta')\n",
    "        title = str(soup.title.string)\n",
    "        #title = str([ meta.attrs['content'] for meta in metas if 'name' in meta.attrs and meta.attrs['name'] == 'title' ])\n",
    "        description = str([ meta.attrs['content'] for meta in metas if 'name' in meta.attrs and meta.attrs['name'] == 'description' ])\n",
    "        keywords = str([ meta.attrs['content'] for meta in metas if 'name' in meta.attrs and meta.attrs['name'] == 'keywords' ])\n",
    "\n",
    "        return title, description, keywords;\n",
    "    \n",
    "    except:\n",
    "        \n",
    "        return \"ERROR\", \"ERROR\", \"ERROR\";"
   ]
  },
  {
   "cell_type": "code",
   "execution_count": null,
   "metadata": {},
   "outputs": [],
   "source": [
    "pd.set_option('display.max_rows', None)\n",
    "\n",
    "urls = df['url'].copy()\n",
    "urls.drop_duplicates(inplace=True)\n",
    "urls"
   ]
  },
  {
   "cell_type": "code",
   "execution_count": null,
   "metadata": {},
   "outputs": [],
   "source": [
    "%%time\n",
    "urls_tags  = urls.apply(lambda x: get_metadata(x))"
   ]
  },
  {
   "cell_type": "code",
   "execution_count": null,
   "metadata": {
    "scrolled": false
   },
   "outputs": [],
   "source": [
    "urls_tags"
   ]
  },
  {
   "cell_type": "code",
   "execution_count": null,
   "metadata": {},
   "outputs": [],
   "source": [
    "%%time\n",
    "titles=[]\n",
    "descr=[]\n",
    "kw=[]\n",
    "\n",
    "for item in (urls_tags):\n",
    "    titles.append(item[0]) #indices [2:-2] elimina dois primeiros e dois ultimos termos da string para limpar o ['str']\n",
    "    descr.append(item[1][2:-2])\n",
    "    kw.append(item[2][2:-2])"
   ]
  },
  {
   "cell_type": "code",
   "execution_count": null,
   "metadata": {},
   "outputs": [],
   "source": [
    "%%time\n",
    "\n",
    "df_output = pd.DataFrame(zip(urls, titles, descr, kw), columns=['url','title', 'description', 'keyword'])\n",
    "df_output"
   ]
  },
  {
   "cell_type": "code",
   "execution_count": null,
   "metadata": {},
   "outputs": [],
   "source": [
    "%%time\n",
    "df_output.to_excel('output.xlsx', index=False)"
   ]
  },
  {
   "cell_type": "code",
   "execution_count": null,
   "metadata": {},
   "outputs": [],
   "source": []
  }
 ],
 "metadata": {
  "kernelspec": {
   "display_name": "Python 3",
   "language": "python",
   "name": "python3"
  },
  "language_info": {
   "codemirror_mode": {
    "name": "ipython",
    "version": 3
   },
   "file_extension": ".py",
   "mimetype": "text/x-python",
   "name": "python",
   "nbconvert_exporter": "python",
   "pygments_lexer": "ipython3",
   "version": "3.8.5"
  }
 },
 "nbformat": 4,
 "nbformat_minor": 4
}
